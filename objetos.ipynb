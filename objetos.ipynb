{
 "cells": [
  {
   "cell_type": "markdown",
   "metadata": {},
   "source": [
    "Objetos"
   ]
  },
  {
   "cell_type": "markdown",
   "metadata": {},
   "source": [
    "1.1 Classe\n",
    "Uma representação de um elemento, real ou não. Uma receita para criar objetos (instâncias).\n",
    "Exemplo: pessoa."
   ]
  },
  {
   "cell_type": "markdown",
   "metadata": {},
   "source": [
    "1.2. Objeto\n",
    "Uma instancia de uma classe. Dá a vida a receita (classe)\n",
    "Exemplo: André é uma instância da classe pessoa."
   ]
  },
  {
   "cell_type": "markdown",
   "metadata": {},
   "source": [
    "1.3 Herança\n",
    "Uma especialização da classe.\n",
    "Exemplo: estudante é um tipo especial de pessoa."
   ]
  },
  {
   "cell_type": "code",
   "execution_count": null,
   "metadata": {},
   "outputs": [],
   "source": [
    "class NomeClasse(object):\n",
    "    def __init__(self, params):\n",
    "        self.atributo1 = ...\n",
    "        self.atributo2 = ...\n",
    "    \n",
    "    def metodo1(self,params):\n",
    "        ...\n",
    "\n",
    "    def metodo2(self,params):\n",
    "        ..."
   ]
  },
  {
   "cell_type": "code",
   "execution_count": 1,
   "metadata": {},
   "outputs": [],
   "source": [
    "class Pessoa(object):\n",
    "    def __init__(self):\n",
    "        pass"
   ]
  },
  {
   "cell_type": "markdown",
   "metadata": {},
   "source": [
    "Atributos"
   ]
  },
  {
   "cell_type": "code",
   "execution_count": 2,
   "metadata": {},
   "outputs": [],
   "source": [
    "class Pessoa(object):\n",
    "    def __init__(self, nome: str, idade: int, documento: complex):\n",
    "        self.nome = nome\n",
    "        self.idade = idade\n",
    "        self.documento = documento"
   ]
  },
  {
   "cell_type": "markdown",
   "metadata": {},
   "source": [
    "Métodos"
   ]
  },
  {
   "cell_type": "code",
   "execution_count": 4,
   "metadata": {},
   "outputs": [],
   "source": [
    "from time import sleep\n",
    "\n",
    "class Pessoa(object):\n",
    "    def __init__(self, nome: str, idade: int, documento: str = None):\n",
    "        self.nome = nome\n",
    "        self.idade = idade\n",
    "        self.documento = documento\n",
    "    def dormir(self,horas: int)-> None:\n",
    "        for hora in range(1,horas+1):\n",
    "            print(f\"Dormindo por {hora} horas.\")\n",
    "            sleep(1)\n",
    "\n",
    "    def falar(self, texto: str) -> None:\n",
    "        print(texto)\n",
    "\n",
    "    def __str__(self) -> str:\n",
    "        return f\"{self.nome}, {self.idade} anos e documento numero {self.documento}\""
   ]
  },
  {
   "cell_type": "code",
   "execution_count": null,
   "metadata": {},
   "outputs": [],
   "source": [
    "andre = Pessoa(nome=\"Andre Perez\", idade=30, documento=\"123\")\n",
    "maria = Pessoa(nome= \"Maria Perez\", idade=56, documento=\"456\")\n",
    "pedro = Pessoa(nome=\"Pedro Perez\", idade=8)"
   ]
  }
 ],
 "metadata": {
  "kernelspec": {
   "display_name": "Python 3",
   "language": "python",
   "name": "python3"
  },
  "language_info": {
   "codemirror_mode": {
    "name": "ipython",
    "version": 3
   },
   "file_extension": ".py",
   "mimetype": "text/x-python",
   "name": "python",
   "nbconvert_exporter": "python",
   "pygments_lexer": "ipython3",
   "version": "3.12.0"
  }
 },
 "nbformat": 4,
 "nbformat_minor": 2
}
