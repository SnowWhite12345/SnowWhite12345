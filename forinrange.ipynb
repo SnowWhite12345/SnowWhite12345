{
 "cells": [
  {
   "cell_type": "code",
   "execution_count": 2,
   "metadata": {},
   "outputs": [
    {
     "name": "stdout",
     "output_type": "stream",
     "text": [
      "0\n",
      "1\n",
      "2\n",
      "3\n",
      "4\n",
      "5\n"
     ]
    }
   ],
   "source": [
    "for valor in range(6):\n",
    "    print(valor)"
   ]
  },
  {
   "cell_type": "code",
   "execution_count": 17,
   "metadata": {},
   "outputs": [
    {
     "name": "stdout",
     "output_type": "stream",
     "text": [
      "4999950000\n"
     ]
    }
   ],
   "source": [
    "soma = 0\n",
    "\n",
    "for valor in range(0, 100000):\n",
    "    soma = soma + valor\n",
    "\n",
    "print(soma)"
   ]
  },
  {
   "cell_type": "code",
   "execution_count": 3,
   "metadata": {},
   "outputs": [
    {
     "name": "stdout",
     "output_type": "stream",
     "text": [
      "2\n",
      "4\n",
      "6\n",
      "8\n"
     ]
    }
   ],
   "source": [
    "lista = [2,4,6,8]\n",
    "for val in lista:\n",
    "    print(val)"
   ]
  },
  {
   "cell_type": "code",
   "execution_count": 5,
   "metadata": {},
   "outputs": [
    {
     "name": "stdout",
     "output_type": "stream",
     "text": [
      "2\n",
      "4\n",
      "6\n",
      "8\n",
      "10\n",
      "12\n",
      "14\n",
      "16\n",
      "18\n",
      "20\n"
     ]
    }
   ],
   "source": [
    "for multiplo_de_dois in range (2,21,2):\n",
    "    print(multiplo_de_dois)"
   ]
  },
  {
   "cell_type": "code",
   "execution_count": 7,
   "metadata": {},
   "outputs": [
    {
     "name": "stdout",
     "output_type": "stream",
     "text": [
      "Maçã\n",
      "Banana\n",
      "Laranja\n",
      "Uva\n",
      "Pera\n"
     ]
    }
   ],
   "source": [
    "frutas =  [\"Maçã\", \"Banana\",\"Laranja\",\"Uva\",\"Pera\"]\n",
    "for fruta in frutas:\n",
    "    print(fruta)"
   ]
  },
  {
   "cell_type": "code",
   "execution_count": 22,
   "metadata": {},
   "outputs": [
    {
     "name": "stdout",
     "output_type": "stream",
     "text": [
      "A letra 'A' está presente na frase.\n",
      "A letra 'A' está presente na frase.\n",
      "A letra 'A' está presente na frase.\n",
      "A letra 'A' está presente na frase.\n"
     ]
    }
   ],
   "source": [
    "frase = \"Fala pessoal, meu nome é André Perez.\"\n",
    "for caracter in frase.upper():\n",
    "    if (caracter == \"A\") | (caracter==\"z\"):\n",
    "        print(f\"A letra '{caracter}' está presente na frase.\")\n"
   ]
  },
  {
   "cell_type": "code",
   "execution_count": 15,
   "metadata": {},
   "outputs": [
    {
     "name": "stdout",
     "output_type": "stream",
     "text": [
      "Para o documento 123, o valor do score de crédito é 750.\n",
      "\n",
      "\n",
      "Para o documento 456, o valor do score de crédito é 812.\n",
      "\n",
      "\n",
      "Para o documento 789, o valor do score de crédito é 980.\n",
      "\n",
      "\n"
     ]
    }
   ],
   "source": [
    "credito = {\"123\":750, \"456\":812, \"789\":980}\n",
    "for chave,valor in credito.items():\n",
    "    print(f\"Para o documento {chave}, o valor do score de crédito é {valor}.\")"
   ]
  },
  {
   "cell_type": "code",
   "execution_count": 18,
   "metadata": {},
   "outputs": [
    {
     "name": "stdout",
     "output_type": "stream",
     "text": [
      "0\n",
      "1\n",
      "2\n",
      "3\n",
      "4\n",
      "5\n",
      "6\n",
      "7\n",
      "8\n",
      "9\n",
      "10\n",
      "Encontrei o 10!\n"
     ]
    }
   ],
   "source": [
    "for i in range (0,10*10*10*10*10*10):\n",
    "    print(i)\n",
    "    if i == 10:\n",
    "        print(\"Encontrei o 10!\")\n",
    "        break"
   ]
  },
  {
   "cell_type": "code",
   "execution_count": 19,
   "metadata": {},
   "outputs": [
    {
     "name": "stdout",
     "output_type": "stream",
     "text": [
      "O número 361 é primo.\n",
      "O número 553 é primo.\n",
      "O número 194 é par.\n"
     ]
    }
   ],
   "source": [
    "numeros = [361, 553, 194, 13, 510, 33, 135]\n",
    "\n",
    "for numero in numeros:\n",
    "    if numero%2 == 0:\n",
    "        print(f\"O número {numero} é par.\")\n",
    "        break\n",
    "    else:\n",
    "        print(f\"O número {numero} é primo.\")"
   ]
  },
  {
   "cell_type": "code",
   "execution_count": 20,
   "metadata": {},
   "outputs": [
    {
     "name": "stdout",
     "output_type": "stream",
     "text": [
      "O número 194 é par.\n"
     ]
    }
   ],
   "source": [
    "numeros = [361, 553, 194, 13, 510, 33, 135]\n",
    "\n",
    "for numero in numeros:\n",
    "    if numero%2 == 0:\n",
    "        print(f\"O número {numero} é par.\")\n",
    "        break\n",
    "    else:\n",
    "        continue\n",
    "        print(f\"O número {numero} é primo.\")"
   ]
  }
 ],
 "metadata": {
  "kernelspec": {
   "display_name": "Python 3",
   "language": "python",
   "name": "python3"
  },
  "language_info": {
   "codemirror_mode": {
    "name": "ipython",
    "version": 3
   },
   "file_extension": ".py",
   "mimetype": "text/x-python",
   "name": "python",
   "nbconvert_exporter": "python",
   "pygments_lexer": "ipython3",
   "version": "3.12.0"
  }
 },
 "nbformat": 4,
 "nbformat_minor": 2
}
