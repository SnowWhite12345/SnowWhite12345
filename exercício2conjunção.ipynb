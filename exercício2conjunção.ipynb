{
 "cells": [
  {
   "cell_type": "code",
   "execution_count": 12,
   "metadata": {},
   "outputs": [
    {
     "name": "stdout",
     "output_type": "stream",
     "text": [
      "Aqui há quatro sistemas planetários, com as seguintes estrelas:\n",
      " Sol, Gliese 876, Mu Arae e 54 Piscium.\n",
      "Planetas presentes nos sistemas: \n",
      " {'Sancho', 'Gliese 876 b', 'Roxinante', 'Gliese 876 c', 'Dulcinéia', 'Quixote', 'Vênus', 'Netuno', 'Júpiter', 'Gliese 876 d', 'Marte', 'Urano', 'Terra', 'Mercúrio', 'Gliese 876 e', '54 Piscium b', 'Saturno'}\n",
      "Estes compõem nosso sistema solar: \n",
      " {'Saturno', 'Júpiter', 'Urano', 'Terra', 'Vênus', 'Netuno', 'Marte', 'Mercúrio'}\n",
      "E estes pertencem às outras estrelas citadas: \n",
      " {'Sancho', 'Roxinante', 'Gliese 876 c', 'Dulcinéia', 'Gliese 876 e', 'Gliese 876 d', 'Quixote', '54 Piscium b', 'Gliese 876 b'}\n"
     ]
    },
    {
     "data": {
      "text/plain": [
       "'Olha o rouxinol'"
      ]
     },
     "execution_count": 12,
     "metadata": {},
     "output_type": "execute_result"
    }
   ],
   "source": [
    "print(\"Aqui há quatro sistemas planetários, com as seguintes estrelas:\\n Sol, Gliese 876, Mu Arae e 54 Piscium.\")\n",
    "\n",
    "planets = {\"54 Piscium b\", \"Gliese 876 d\", \"Gliese 876 c\", \"Gliese 876 b\", \"Gliese 876 e\", \"Mercúrio\", \"Netuno\", \"Urano\", \"Vênus\", \"Júpiter\", \"Terra\", \"Marte\", \"Saturno\", \"Dulcinéia\", \"Roxinante\", \"Quixote\", \"Sancho\"}\n",
    "\n",
    "print(\"Planetas presentes nos sistemas: \\n\", planets)\n",
    "\n",
    "planets_Random = {\"54 Piscium b\", \"Gliese 876 d\", \"Gliese 876 c\", \"Gliese 876 b\", \"Gliese 876 e\", \"Dulcinéia\", \"Roxinante\", \"Quixote\", \"Sancho\"}\n",
    "planets_Sol = planets - planets_Random\n",
    "\n",
    "print(\"Estes compõem nosso sistema solar: \\n\", planets_Sol)\n",
    "print(\"E estes pertencem às outras estrelas citadas: \\n\", planets_Random)\n",
    "\n",
    "\"A ovelinh\""
   ]
  }
 ],
 "metadata": {
  "kernelspec": {
   "display_name": "Python 3",
   "language": "python",
   "name": "python3"
  },
  "language_info": {
   "codemirror_mode": {
    "name": "ipython",
    "version": 3
   },
   "file_extension": ".py",
   "mimetype": "text/x-python",
   "name": "python",
   "nbconvert_exporter": "python",
   "pygments_lexer": "ipython3",
   "version": "3.12.0"
  }
 },
 "nbformat": 4,
 "nbformat_minor": 2
}
