{
 "cells": [
  {
   "cell_type": "code",
   "execution_count": null,
   "metadata": {},
   "outputs": [],
   "source": [
    "livro = {\"Título\": \"O lado Feio do Amor\", \"ISBN\":9788820076559, \"Autor\":\"Coleen Hoover\", \"Ano publicado\": 2015, \"Número da edição\":28, \"Editora\":\"Galera Record\"}\n",
    "\n",
    "print(\"Hoje, começa a Sessão de Autógrafos dos livros da famosa Coho. O livro que a maioria dos fãs levaram para ser assinado foi: \\n\", livro)"
   ]
  },
  {
   "cell_type": "code",
   "execution_count": 3,
   "metadata": {},
   "outputs": [
    {
     "name": "stdout",
     "output_type": "stream",
     "text": [
      "*Catálogo de filmes em alta*\n",
      "\n",
      "{'Nome': 'Crepúsculo', 'Direção': 'Catherine Hardwickie', 'Ano de Lançamento': 2008, 'Gênero': 'Fantasia e Romance', 'Tempo de Duração': '2h 02min', 'Atores Principais': 'Kristen Stewart e Robert Pattinson'} \n",
      "\n",
      "{'Nome': 'A Verdade Nua e Crua', 'Direção': 'Robert Luketic', 'Ano de Lançamento': 2009, 'Gênero': 'Comédia Romântica', 'Tempo de Duração': '1h 36min', 'Atores Principais': 'Katherine Heigl e Gerard Butler'} \n",
      "\n",
      "{'Nome': 'Vermelho Branco e Sangue Azul', 'Direção': 'Matthew López', 'Ano de Lançamento': 2023, 'Gênero': 'Comédia Romântica', 'Tempo de Duração': '1h 58min', 'Atores Principais': 'Nicholas Galitzine e Taylor Perez'} \n",
      "\n"
     ]
    }
   ],
   "source": [
    "print(\"*Catálogo de filmes em alta*\\n\")\n",
    "\n",
    "filme = [\"Crepúsculo\", \"A Verdade Nua e Crua\", \"Vermelho Branco e Sangue Azul\"]\n",
    "direcao = [\"Catherine Hardwickie\", \"Robert Luketic\", \"Matthew López\"]\n",
    "ano = [2008, 2009, 2023]\n",
    "gênero = [\"Fantasia e Romance\", \"Comédia Romântica\", \"Comédia Romântica\"]\n",
    "time = [\"2h 02min\", \"1h 36min\", \"1h 58min\"]\n",
    "actor = [\"Kristen Stewart e Robert Pattinson\", \"Katherine Heigl e Gerard Butler\", \"Nicholas Galitzine e Taylor Perez\"]\n",
    "\n",
    "for i in range(3):\n",
    "    catálogo = {\n",
    "        \"Nome\":filme[i], \n",
    "        \"Direção\":direcao[i], \n",
    "        \"Ano de Lançamento\":ano[i], \n",
    "        \"Gênero\":gênero[i], \n",
    "        \"Tempo de Duração\":time[i], \n",
    "        \"Atores Principais\":actor[i]}\n",
    "    print(catálogo, \"\\n\")"
   ]
  },
  {
   "cell_type": "code",
   "execution_count": 4,
   "metadata": {},
   "outputs": [
    {
     "name": "stdout",
     "output_type": "stream",
     "text": [
      "Crie um catálogo de filmes\n",
      "\n",
      "{'Título': 'Crepúsculo', 'Direção': 'Catherine Hardwickie', 'Ano de lançamento': '2008', 'Gênero': 'fantasia e romance', 'Tempo de duração': '2h02min', 'Atores principais': 'Kristen Stewart e Robert Pattinson'} \n",
      "\n",
      "{'Título': 'A verdade nua e crua', 'Direção': 'Robert Luketic', 'Ano de lançamento': '2009', 'Gênero': 'Comédia Romântica', 'Tempo de duração': '1h36min', 'Atores principais': 'Katherine e Gerard Butler'} \n",
      "\n",
      "{'Título': 'Vermelho, Branco e Sangue azul', 'Direção': 'Matthew López', 'Ano de lançamento': '2023', 'Gênero': 'Comédia Romântica', 'Tempo de duração': '1h58min', 'Atores principais': 'Nicholas Galitzine'} \n",
      "\n"
     ]
    }
   ],
   "source": [
    "i = 0\n",
    "filme = [\"\",\"\", \"\"]\n",
    "direcao = [\"\",\"\",\"\"]\n",
    "ano = [\"\",\"\",\"\"]\n",
    "genero = [\"\",\"\",\"\"]\n",
    "time = [\"\",\"\",\"\"]\n",
    "actor = [\"\",\"\",\"\"]\n",
    "\n",
    "print (\"Crie um catálogo de filmes\\n\")\n",
    "for i in range(3):\n",
    "    filme[i] = input(\"Insira o título do filme, e preencha as demais informações: \")\n",
    "    direcao[i] = input(\"Direção: \")\n",
    "    ano[i] = input(\"Ano de lançamento: \")\n",
    "    genero[i]= input(\"Gênero: \")\n",
    "    time[i]= input(\"Tempo de duração: \")\n",
    "    actor[i]= input(\"Atores principais: \")\n",
    "    catálogo = {\"Título\":filme[i], \"Direção\":direcao[i], \"Ano de lançamento\":ano[i], \"Gênero\":genero[i], \"Tempo de duração\":time[i], \"Atores principais\":actor[i]}\n",
    "    print(catálogo, \"\\n\")"
   ]
  }
 ],
 "metadata": {
  "kernelspec": {
   "display_name": "Python 3",
   "language": "python",
   "name": "python3"
  },
  "language_info": {
   "codemirror_mode": {
    "name": "ipython",
    "version": 3
   },
   "file_extension": ".py",
   "mimetype": "text/x-python",
   "name": "python",
   "nbconvert_exporter": "python",
   "pygments_lexer": "ipython3",
   "version": "3.12.0"
  }
 },
 "nbformat": 4,
 "nbformat_minor": 2
}
