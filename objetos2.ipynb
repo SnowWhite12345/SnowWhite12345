{
 "cells": [
  {
   "cell_type": "code",
   "execution_count": 4,
   "metadata": {},
   "outputs": [
    {
     "name": "stdout",
     "output_type": "stream",
     "text": [
      "Olá, meu nome é Andressa de Vargas Fernandes.\n",
      "Estou cozinhando um(a) Pizza de brócolis.\n",
      "Eu saí para caminhar. Voltarei quando completar 1000 metros.\n"
     ]
    }
   ],
   "source": [
    "class Pessoa:\n",
    "    def __init__(self, nome:str, altura:float, idade:int, etnia:str):\n",
    "        self.nome = nome\n",
    "        self.altura = altura\n",
    "        self.idade = idade\n",
    "        self.etnia = etnia\n",
    "    \n",
    "    def falar(self):\n",
    "        print(f\"Olá, meu nome é {self.nome}.\")\n",
    "    def andar(self, distancia: float):\n",
    "        print(f\"Eu saí para caminhar. Voltarei quando completar {distancia} metros.\")\n",
    "    def cozinhar(self,receita:str):\n",
    "        print(f\"Estou cozinhando um(a) {receita}.\")\n",
    "\n",
    "#---------------------------------------------------------------------------------------\n",
    "\n",
    "pessoa1 = Pessoa(nome= \"Andressa de Vargas Fernandes\", altura= 1.68, idade= 18, etnia=\"Branca\")\n",
    "pessoa1.falar()\n",
    "pessoa1.cozinhar(\"Pizza de brócolis\")\n",
    "pessoa1.andar(1000)\n",
    "\n"
   ]
  },
  {
   "cell_type": "code",
   "execution_count": null,
   "metadata": {},
   "outputs": [],
   "source": []
  }
 ],
 "metadata": {
  "kernelspec": {
   "display_name": "Python 3",
   "language": "python",
   "name": "python3"
  },
  "language_info": {
   "codemirror_mode": {
    "name": "ipython",
    "version": 3
   },
   "file_extension": ".py",
   "mimetype": "text/x-python",
   "name": "python",
   "nbconvert_exporter": "python",
   "pygments_lexer": "ipython3",
   "version": "3.12.0"
  }
 },
 "nbformat": 4,
 "nbformat_minor": 2
}
