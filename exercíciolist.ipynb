{
 "cells": [
  {
   "cell_type": "code",
   "execution_count": 5,
   "metadata": {},
   "outputs": [
    {
     "name": "stdout",
     "output_type": "stream",
     "text": [
      "Dona Eva e Dona Ermínia moravam juntas, e coincidentemente foram em feiras e compraram frutas das suas listas individuais de compras mensais.\n",
      "\n",
      "Após perceberem a coincidência, resolveram fazer uma lista de frutas disponíveis agora, misturando suas listas.\n",
      "\n",
      "Lista Dona Eva:  ['Mamão', 'Pêssego', 'Melância', 'Melão', 'Laranja', 'Banana']\n",
      "Lista Dona Ermínia:  ['Morango', 'Laranja', 'Pêssego', 'Uva', 'Banana', 'Jabuticaba'] \n",
      "\n",
      "Agora, as frutas disponíveis na casa delas é: \n",
      " ['Banana', 'Melância', 'Pêssego', 'Laranja', 'Uva', 'Jabuticaba', 'Melão', 'Morango', 'Mamão']\n"
     ]
    }
   ],
   "source": [
    "print(\"Dona Eva e Dona Ermínia moravam juntas, e coincidentemente foram em feiras e compraram frutas das suas listas individuais de compras mensais.\")\n",
    "print(\"\\nApós perceberem a coincidência, resolveram fazer uma lista de frutas disponíveis agora, misturando suas listas.\\n\")\n",
    "\n",
    "fruits_Dona_Eva = [\"Mamão\", \"Pêssego\", \"Melância\", \"Melão\", \"Laranja\", \"Banana\"]\n",
    "fruits_Dona_Ermínia = [\"Morango\", \"Laranja\", \"Pêssego\", \"Uva\", \"Banana\", \"Jabuticaba\"]\n",
    "\n",
    "print(\"Lista Dona Eva: \", fruits_Dona_Eva)\n",
    "print(\"Lista Dona Ermínia: \", fruits_Dona_Ermínia, \"\\n\")\n",
    "\n",
    "fruits_house = fruits_Dona_Eva + fruits_Dona_Ermínia\n",
    "\n",
    "print(\"Agora, as frutas disponíveis na casa delas é: \\n\", list(set(fruits_house)))"
   ]
  }
 ],
 "metadata": {
  "kernelspec": {
   "display_name": "Python 3",
   "language": "python",
   "name": "python3"
  },
  "language_info": {
   "codemirror_mode": {
    "name": "ipython",
    "version": 3
   },
   "file_extension": ".py",
   "mimetype": "text/x-python",
   "name": "python",
   "nbconvert_exporter": "python",
   "pygments_lexer": "ipython3",
   "version": "3.12.0"
  }
 },
 "nbformat": 4,
 "nbformat_minor": 2
}
