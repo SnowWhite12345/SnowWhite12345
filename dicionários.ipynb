{
 "cells": [
  {
   "cell_type": "markdown",
   "metadata": {},
   "source": [
    "Para se conectar a uma rede wi-fi, você precisa de duas informações: o nome da rede e senha de acesso. Quando você vai acessar uma nova rede, você encontra uma lista de redes disponíveis:"
   ]
  },
  {
   "cell_type": "code",
   "execution_count": 33,
   "metadata": {},
   "outputs": [
    {
     "name": "stdout",
     "output_type": "stream",
     "text": [
      "['rede1', 'cnx_cnx', 'uai-fi', 'r3d3']\n"
     ]
    }
   ],
   "source": [
    "wifi_disponiveis = [\"rede1\", \"cnx_cnx\", \"uai-fi\", \"r3d3\"]\n",
    "print(wifi_disponiveis)"
   ]
  },
  {
   "cell_type": "markdown",
   "metadata": {},
   "source": [
    "Você consegue identificar quais são os nomes de redes e suas respectivas senhas? Talvez uma *list* não seja a melhor opção para armazenar esse tipo de dado."
   ]
  },
  {
   "cell_type": "markdown",
   "metadata": {},
   "source": [
    "Armazenam sequências no formato chave-valor. São do tipo *dict*."
   ]
  },
  {
   "cell_type": "code",
   "execution_count": 34,
   "metadata": {},
   "outputs": [
    {
     "name": "stdout",
     "output_type": "stream",
     "text": [
      "{'Capital': 'Brasília', 'Idioma': 'Português', 'População': 210}\n",
      "<class 'dict'>\n"
     ]
    }
   ],
   "source": [
    "brasil = {\"Capital\":\"Brasília\", \"Idioma\":\"Português\", \"População\":210}\n",
    "\n",
    "print(brasil)\n",
    "\n",
    "print(type(brasil))"
   ]
  },
  {
   "cell_type": "markdown",
   "metadata": {},
   "source": [
    "Não permite chaves duplicadas."
   ]
  },
  {
   "cell_type": "code",
   "execution_count": 35,
   "metadata": {},
   "outputs": [
    {
     "name": "stdout",
     "output_type": "stream",
     "text": [
      "{'Marca': 'Volkswagen', 'Modelo': 'Golf', 'Ano': 2004}\n"
     ]
    }
   ],
   "source": [
    "carro = {\n",
    "    \"Marca\":\"Volkswagen\",\n",
    "    \"Modelo\":\"Golf\",\n",
    "    \"Ano\":2021,\n",
    "    \"Ano\":2004\n",
    "}\n",
    "\n",
    "print(carro)"
   ]
  },
  {
   "cell_type": "markdown",
   "metadata": {},
   "source": [
    "Podemos criar dicionários compostos: "
   ]
  },
  {
   "cell_type": "code",
   "execution_count": 36,
   "metadata": {},
   "outputs": [
    {
     "name": "stdout",
     "output_type": "stream",
     "text": [
      "{'André': {'Nome': 'André Perez', 'Ano Nascimento': 1992, 'Pais': {'Pai': {'Nome': '<nome-do-pai> Perez', 'Ano Nascimento': 1971}, 'Mãe': {'Nome': '<nome-da-mãe> Perez', 'Ano Nascimento': 1973}}}}\n"
     ]
    }
   ],
   "source": [
    "cadastro = {\n",
    "    \"André\":{\n",
    "        \"Nome\":\"André Perez\",\n",
    "        \"Ano Nascimento\":1992,\n",
    "        \"Pais\": {\n",
    "            \"Pai\": {\n",
    "                \"Nome\": \"<nome-do-pai> Perez\",\n",
    "                \"Ano Nascimento\": 1971\n",
    "            },\n",
    "            \"Mãe\":{\n",
    "                \"Nome\":\"<nome-da-mãe> Perez\",\n",
    "                \"Ano Nascimento\" : 1973\n",
    "            },\n",
    "        }\n",
    "    }\n",
    "}\n",
    "\n",
    "print(cadastro)"
   ]
  },
  {
   "cell_type": "code",
   "execution_count": 37,
   "metadata": {},
   "outputs": [
    {
     "data": {
      "text/plain": [
       "1973"
      ]
     },
     "execution_count": 37,
     "metadata": {},
     "output_type": "execute_result"
    }
   ],
   "source": [
    "cadastro[\"André\"][\"Pais\"][\"Mãe\"][\"Ano Nascimento\"]"
   ]
  },
  {
   "cell_type": "code",
   "execution_count": 38,
   "metadata": {},
   "outputs": [],
   "source": [
    "credito = {\"123\":750, \"789\":980}"
   ]
  },
  {
   "cell_type": "markdown",
   "metadata": {},
   "source": [
    "Elementos são acessados pela sua chave."
   ]
  },
  {
   "cell_type": "code",
   "execution_count": 39,
   "metadata": {},
   "outputs": [
    {
     "name": "stdout",
     "output_type": "stream",
     "text": [
      "750\n",
      "980\n"
     ]
    }
   ],
   "source": [
    "score_123 = credito[\"123\"]\n",
    "score_789 = credito[\"789\"]\n",
    "\n",
    "print(score_123)\n",
    "print(score_789)"
   ]
  },
  {
   "cell_type": "markdown",
   "metadata": {},
   "source": [
    "Elementos são atualizados pela sua chave."
   ]
  },
  {
   "cell_type": "code",
   "execution_count": 40,
   "metadata": {},
   "outputs": [
    {
     "name": "stdout",
     "output_type": "stream",
     "text": [
      "{'123': 435, '789': 980}\n"
     ]
    }
   ],
   "source": [
    "credito[\"123\"] = 435\n",
    "print(credito)"
   ]
  },
  {
   "cell_type": "markdown",
   "metadata": {},
   "source": [
    "Para adicionar um novo, elemento, basta criar um novo elemento chave-valor:"
   ]
  },
  {
   "cell_type": "code",
   "execution_count": 41,
   "metadata": {},
   "outputs": [
    {
     "name": "stdout",
     "output_type": "stream",
     "text": [
      "{'123': 435, '789': 980, '456': 1000}\n"
     ]
    }
   ],
   "source": [
    "credito[\"456\"] = 1000\n",
    "print(credito)"
   ]
  },
  {
   "cell_type": "markdown",
   "metadata": {},
   "source": [
    "São métodos nativos do Python que nos ajudam a trabalhar no dia a dia com dicionários."
   ]
  },
  {
   "cell_type": "code",
   "execution_count": 42,
   "metadata": {},
   "outputs": [
    {
     "name": "stdout",
     "output_type": "stream",
     "text": [
      "{'titulo': 'Modulo 02 | Python: Estruturas de dados', 'corpo': 'Topicos, Aulas, Listas, Conjuntos, Dicionários, ...', 'total_caracteres': 1530}\n"
     ]
    }
   ],
   "source": [
    "artigo = dict(\n",
    "    titulo = \"Modulo 02 | Python: Estruturas de dados\",\n",
    "    corpo = \"Topicos, Aulas, Listas, Conjuntos, Dicionários, ...\",\n",
    "    total_caracteres=1530\n",
    ")\n",
    "\n",
    "print(artigo)"
   ]
  },
  {
   "cell_type": "code",
   "execution_count": 45,
   "metadata": {},
   "outputs": [
    {
     "name": "stdout",
     "output_type": "stream",
     "text": [
      "{'titulo': 'Modulo 02 | Python: Estruturas de dados', 'corpo': 'Topicos, Aulas, Listas, Conjuntos, Dicionários, ...', 'total_caracteres': 7850}\n",
      "{'titulo': 'Modulo 02 | Python: Estruturas de dados', 'corpo': 'Topicos, Aulas, Listas, Conjuntos, Dicionários, ...', 'total_caracteres': 1270}\n",
      "{'titulo': 'Modulo 02 | Python: Estruturas de dados', 'corpo': 'Topicos, Aulas, Listas, Conjuntos, Dicionários, ...', 'total_caracteres': 7850}\n"
     ]
    }
   ],
   "source": [
    "# adcionar/atualizar um elemento pelo chave-valor: dict.update(dict)\n",
    "print(artigo)\n",
    "artigo.update({\"total_caracteres\": 1270})\n",
    "print(artigo)\n",
    "\n",
    "artigo[\"total_caracteres\"] = 7850\n",
    "print(artigo)"
   ]
  },
  {
   "cell_type": "code",
   "execution_count": 46,
   "metadata": {},
   "outputs": [
    {
     "name": "stdout",
     "output_type": "stream",
     "text": [
      "['titulo', 'corpo', 'total_caracteres']\n",
      "<class 'list'>\n"
     ]
    }
   ],
   "source": [
    "chaves = list(artigo.keys())\n",
    "print(chaves)\n",
    "print(type(chaves))"
   ]
  },
  {
   "cell_type": "code",
   "execution_count": 47,
   "metadata": {},
   "outputs": [
    {
     "name": "stdout",
     "output_type": "stream",
     "text": [
      "['Modulo 02 | Python: Estruturas de dados', 'Topicos, Aulas, Listas, Conjuntos, Dicionários, ...', 7850]\n",
      "<class 'list'>\n"
     ]
    }
   ],
   "source": [
    "valores = list(artigo.values())\n",
    "\n",
    "print(valores)\n",
    "print(type(valores))"
   ]
  },
  {
   "cell_type": "code",
   "execution_count": 50,
   "metadata": {},
   "outputs": [
    {
     "name": "stdout",
     "output_type": "stream",
     "text": [
      "[{'Nome': 'Rede1', 'Senha': 'cnx_cnx'}, {'Nome': 'uai-fi', 'Senha': 'r3d3'}]\n"
     ]
    }
   ],
   "source": [
    "wifi_disponiveis = []\n",
    "rede = {\"Nome\":\"Rede1\", \"Senha\":\"cnx_cnx\"}\n",
    "wifi_disponiveis.append(rede)\n",
    "rede = {\"Nome\":\"uai-fi\", \"Senha\":\"r3d3\"}\n",
    "wifi_disponiveis.append(rede)\n",
    "print(wifi_disponiveis)"
   ]
  }
 ],
 "metadata": {
  "kernelspec": {
   "display_name": "Python 3",
   "language": "python",
   "name": "python3"
  },
  "language_info": {
   "codemirror_mode": {
    "name": "ipython",
    "version": 3
   },
   "file_extension": ".py",
   "mimetype": "text/x-python",
   "name": "python",
   "nbconvert_exporter": "python",
   "pygments_lexer": "ipython3",
   "version": "3.12.0"
  }
 },
 "nbformat": 4,
 "nbformat_minor": 2
}
