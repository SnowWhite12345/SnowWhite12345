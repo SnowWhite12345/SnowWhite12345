{
 "cells": [
  {
   "cell_type": "markdown",
   "metadata": {},
   "source": [
    "1. Leitura\n",
    "\n",
    "1.1 Configuração inicial\n",
    "\n",
    "Vamos utilizar uma função do Google Colab para criar arquivos para esse módulo.\n",
    "\n",
    "\n",
    "Arquivo CSV: banco.csv"
   ]
  },
  {
   "cell_type": "code",
   "execution_count": null,
   "metadata": {},
   "outputs": [],
   "source": [
    "%%writefile Banco.csv\n",
    "age;job;marital;education;default;balance;housing;loan\n",
    "30;unemployed;married;primary;no;1787;no;no\n",
    "33;services;married;secondary;no;4789;yes;yes\n",
    "35;management;single;tertiary;no;1350;yes;no\n",
    "30;management;married;tertiary;no;1476;yes;yes\n",
    "59;blue-collar;married;secondary;no;0;yes;no\n",
    "35;management;single;tertiary;no;747;no;no\n",
    "36;self-employed;married;tertiary;no;307;yes;no\n",
    "39;technician;married;secondary;no;147;yes;no\n",
    "41;entrepreneur;married;tertiary;no;221;yes;no\n",
    "43;services;married;primary;no;-88;yes;yes"
   ]
  },
  {
   "cell_type": "markdown",
   "metadata": {},
   "source": [
    "1.2. With / Open\n",
    "\n",
    "Comando para ler arquivos."
   ]
  },
  {
   "cell_type": "code",
   "execution_count": null,
   "metadata": {},
   "outputs": [],
   "source": [
    "#with open (file = \"<caminho do arquivo>\", mode = \"<mode de leitura>\", encoding=\"<decodificador>\") as #<apelido>:\n",
    "#   bloco de código"
   ]
  },
  {
   "cell_type": "markdown",
   "metadata": {},
   "source": [
    "Os modos de leitura são:\n",
    "r: Abrir o arquivo para a leitura (padrão)\n",
    "\n",
    "1.3. Read\n",
    "Comando para ler todo o contrúdo de um arquivo."
   ]
  },
  {
   "cell_type": "code",
   "execution_count": null,
   "metadata": {},
   "outputs": [],
   "source": [
    "conteudo = None\n",
    "\n",
    "with open(file=\"./banco.csv\", mode=\"r\", encoding=\"utf8\") as arquivo:\n",
    "    conteudo = arquivo.read()\n",
    "\n",
    "print(conteudo)"
   ]
  },
  {
   "cell_type": "markdown",
   "metadata": {},
   "source": [
    "1.4. Readline\n",
    "\n",
    "Comando para ler o conteúdo de um arquivo uma linha por vez."
   ]
  },
  {
   "cell_type": "code",
   "execution_count": null,
   "metadata": {},
   "outputs": [],
   "source": [
    "conteudo = []\n",
    "with open(file=\"./Banco.csv\", mode=\"r\", encoding=\"utf8\") as arquivo:\n",
    "    linha = arquivo.readline()\n",
    "\n",
    "    while linha: #Verifica se há conteúdo na val. \"Linha\"\n",
    "        conteudo.append(linha)\n",
    "        linha = arquivo.readline()\n",
    "    #print (conteudo)\n",
    "    #print(conteudo[4])\n",
    "\n",
    "    for linha in conteudo:\n",
    "        print(linha)"
   ]
  },
  {
   "cell_type": "code",
   "execution_count": null,
   "metadata": {},
   "outputs": [],
   "source": [
    "idades = []\n",
    "with open(file='Banco.csv', mode='r', encoding='utf8') as arquivo:\n",
    "    linha = arquivo.readline()\n",
    "    linha = arquivo.readline()\n",
    "\n",
    "    while linha: \n",
    "        linha_separada= linha.split(';')\n",
    "        idade = linha_separada[0]\n",
    "        idades.append(str(idade))\n",
    "        linha = arquivo.readline()\n",
    "print(idades)"
   ]
  },
  {
   "cell_type": "markdown",
   "metadata": {},
   "source": [
    "2. Escrita"
   ]
  },
  {
   "cell_type": "code",
   "execution_count": null,
   "metadata": {},
   "outputs": [],
   "source": [
    "idades = []\n",
    "with open(file='idades.csv', mode='w', encoding='utf8') as arquivo:\n",
    "    linha + 'idade' + '\\n'\n",
    "    arquivo.write(linha)\n",
    "    for idade in idades:\n",
    "        linha = str(idade) + '\\n'\n",
    "        arquivo.write(linha)\n",
    "print()"
   ]
  },
  {
   "cell_type": "code",
   "execution_count": null,
   "metadata": {},
   "outputs": [],
   "source": [
    "with open(file='idades.csv', mode='a', encoding='utf8') as arquivo:\n",
    "    for idade in idades:\n",
    "        linha = str(idade + 100) + '\\n'\n",
    "        arquivo.write(linha)\n",
    "print(linha)"
   ]
  },
  {
   "cell_type": "code",
   "execution_count": null,
   "metadata": {},
   "outputs": [],
   "source": [
    "with open(file='./banco-texto.txt', mode='r', encoding='utf8') as leitura:\n",
    "  with open(file='./banco-csv.csv', mode='w', encoding='utf8') as escrita:\n",
    "    linha = leitura.readline()\n",
    "    while linha:\n",
    "      escrita.write(linha)\n",
    "      linha = leitura.readline()"
   ]
  },
  {
   "cell_type": "code",
   "execution_count": 14,
   "metadata": {},
   "outputs": [
    {
     "name": "stdout",
     "output_type": "stream",
     "text": [
      "Overwriting Notas.csv\n"
     ]
    }
   ],
   "source": [
    "%%writefile Notas.csv\n",
    "Matrícula; R1; R2; R3; R4; R5; R6; R7; R8; R9; R10; Notas; Aprovação\n",
    "947348; 1-A; 2-C; 3-D; 4-E; 5-E; 6-E; 7-A; 8-C; 9-E; 10-B; 7; Aprovado\n",
    "345763; 1-A; 2-D; 3-B; 4-A; 5-E; 6-E; 7-A; 8-D; 9-B; 10-B; 6; Reprovado\n",
    "438762; 1-A; 2-C; 3-B; 4-C; 5-A; 6-E; 7-A; 8-B; 9-E; 10-B; 7; Aprovado"
   ]
  },
  {
   "cell_type": "code",
   "execution_count": 15,
   "metadata": {},
   "outputs": [],
   "source": [
    "def percentual(numeros:list):\n",
    "    porcentagem = sum(numeros)/len(numeros)\n",
    "    porcentagem = porcentagem*100\n",
    "    return round(porcentagem,2)\n",
    "\n",
    "aprovados = []\n",
    "with open(file='Notas.csv', mode='r', encoding='utf8') as arquivo:\n",
    "    linha = arquivo.readline()\n",
    "    linha = arquivo.readline()\n",
    "\n",
    "    while linha: \n",
    "        linha_separada= linha.split(';')\n",
    "        aprovado = linha_separada[12]\n",
    "        aprovados.append(str(aprovado))\n",
    "        linha = arquivo.readline()\n",
    "\n",
    "lista = []\n",
    "num1= 1\n",
    "num0 = 0\n",
    "for i in aprovados:\n",
    "    if i == ' Aprovado\\n':\n",
    "        lista.append(num1)\n",
    "    elif i == ' Reprovado\\n':\n",
    "        lista.append(num0)\n",
    "\n",
    "percentualval = percentual(lista)\n",
    "\n",
    "with open(file='Notas.csv', mode='a', encoding='utf8') as arquivo:\n",
    "    arquivo.write(str(f\"\\n Percentual de aprovados: {percentualval}%\"))"
   ]
  }
 ],
 "metadata": {
  "kernelspec": {
   "display_name": "Python 3",
   "language": "python",
   "name": "python3"
  },
  "language_info": {
   "codemirror_mode": {
    "name": "ipython",
    "version": 3
   },
   "file_extension": ".py",
   "mimetype": "text/x-python",
   "name": "python",
   "nbconvert_exporter": "python",
   "pygments_lexer": "ipython3",
   "version": "3.12.0"
  }
 },
 "nbformat": 4,
 "nbformat_minor": 2
}
