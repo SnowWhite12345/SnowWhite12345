{
 "cells": [
  {
   "cell_type": "markdown",
   "metadata": {},
   "source": [
    "1. if Else e Elif\n",
    "Estrutura de alteração de fluxo lógico do código, avalia um valor booleano ou uma comparação lógica.\n",
    "\n",
    "if <booleano / conparação lógica> == True:\n",
    "    <execute este código>\n",
    "else:\n",
    "    <senão execute este código>"
   ]
  },
  {
   "cell_type": "code",
   "execution_count": null,
   "metadata": {},
   "outputs": [],
   "source": [
    "if False:\n",
    "    print(\"Verdadeiro\")\n",
    "else:\n",
    "    print(\"Falso\")"
   ]
  },
  {
   "cell_type": "markdown",
   "metadata": {},
   "source": [
    "Exemplo: Código de segurança de um cartão de crédito."
   ]
  },
  {
   "cell_type": "code",
   "execution_count": null,
   "metadata": {},
   "outputs": [],
   "source": [
    "codigo_de_seguranca =\"291\"\n",
    "codigo_de_seguranca_cadastro = \"010\"\n",
    "\n",
    "cod_a = \"291\"\n",
    "cod_b = \"010\"\n",
    "\n",
    "print(cod_a==cod_b)\n",
    "\n",
    "pode_efetuar_pagamento = codigo_de_seguranca == codigo_de_seguranca_cadastro\n",
    "print(pode_efetuar_pagamento)"
   ]
  },
  {
   "cell_type": "code",
   "execution_count": null,
   "metadata": {},
   "outputs": [],
   "source": [
    "if pode_efetuar_pagamento:\n",
    "    print(\"Pagamento efetuado.\")\n",
    "else:\n",
    "    print(\"Erro: Código de Segurança Inválido.\")"
   ]
  },
  {
   "cell_type": "code",
   "execution_count": null,
   "metadata": {},
   "outputs": [],
   "source": [
    "if codigo_de_seguranca == codigo_de_seguranca_cadastro:\n",
    "    print(\"Pagamento efetuado.\")\n",
    "else:\n",
    "    print(\"erro: Código de Segurança inválido.\")"
   ]
  },
  {
   "cell_type": "markdown",
   "metadata": {},
   "source": [
    "Exemplo: Código e senha de segurança de um cartão de crédito."
   ]
  },
  {
   "cell_type": "code",
   "execution_count": 10,
   "metadata": {},
   "outputs": [],
   "source": [
    "codigo_de_seguranca = \"852\"\n",
    "codigo_de_seguranca_cadastro = \"852\"\n",
    "\n",
    "senha = \"7783\"\n",
    "senha_cadastro = \"7783\""
   ]
  },
  {
   "cell_type": "markdown",
   "metadata": {},
   "source": [
    "Revisando tabela verdade:\n",
    "\n",
    "|código | senha | código or senha | Código and senha | not código|\n",
    "| true  | true  |      true       |       true       |   false   |\n",
    "| true  | false |      true       |       false      |   false   |\n",
    "| false | false |      false      |       false      |   true    |\n",
    "| false | true  |      true       |       false      |   true    |"
   ]
  },
  {
   "cell_type": "code",
   "execution_count": 9,
   "metadata": {},
   "outputs": [
    {
     "name": "stdout",
     "output_type": "stream",
     "text": [
      "Pagamento efetuado.\n"
     ]
    }
   ],
   "source": [
    "if (codigo_de_seguranca==codigo_de_seguranca_cadastro) & (senha==senha_cadastro):\n",
    "    print(\"Pagamento efetuado.\")\n",
    "else:\n",
    "    print(\"Erro: Pagamento não efetuado.\")"
   ]
  },
  {
   "cell_type": "code",
   "execution_count": 12,
   "metadata": {},
   "outputs": [
    {
     "name": "stdout",
     "output_type": "stream",
     "text": [
      "Pagamento efetuado.\n"
     ]
    }
   ],
   "source": [
    "if (codigo_de_seguranca!=codigo_de_seguranca_cadastro) & (senha!=senha_cadastro):\n",
    "    print(\"Erro: Pagamento não efetuado.\")\n",
    "else:\n",
    "    print(\"Pagamento efetuado.\")"
   ]
  },
  {
   "cell_type": "markdown",
   "metadata": {},
   "source": [
    "Podemos também avaliar múltiplas condições:\n",
    "if<1° booleano / 1° comparação lógica> == True:\n",
    "    <execute este código se a primeira condição for verdadeira>\n",
    "elif<2° booleano/ 2° comaração lógica> == True:\n",
    "    <execute este código se a segunda comparação for verdadeira.\n",
    "else:\n",
    "    <senao execute este código>"
   ]
  }
 ],
 "metadata": {
  "kernelspec": {
   "display_name": "Python 3",
   "language": "python",
   "name": "python3"
  },
  "language_info": {
   "codemirror_mode": {
    "name": "ipython",
    "version": 3
   },
   "file_extension": ".py",
   "mimetype": "text/x-python",
   "name": "python",
   "nbconvert_exporter": "python",
   "pygments_lexer": "ipython3",
   "version": "3.12.0"
  }
 },
 "nbformat": 4,
 "nbformat_minor": 2
}
