{
 "cells": [
  {
   "cell_type": "code",
   "execution_count": 2,
   "metadata": {},
   "outputs": [
    {
     "name": "stdout",
     "output_type": "stream",
     "text": [
      "[0.05, 0.07, 0.02, 0.04, 0.08]\n",
      "[0.05, 0.07, 0.02, 0.04, 0.08, 0.09]\n"
     ]
    }
   ],
   "source": [
    "juros = [0.05, 0.07, 0.02, 0.04, 0.08]\n",
    "print(juros)\n",
    "\n",
    "#inserir um elemento no fim da lista: list.append(val)\n",
    "\n",
    "juros.append(0.09)\n",
    "print(juros)"
   ]
  },
  {
   "cell_type": "code",
   "execution_count": 3,
   "metadata": {},
   "outputs": [
    {
     "name": "stdout",
     "output_type": "stream",
     "text": [
      "[0.05, 0.07, 0.02, 0.04, 0.08]\n"
     ]
    }
   ],
   "source": [
    "# remover um elemento pelo valor: list.remove(val)\n",
    "\n",
    "juros.remove(0.09)\n",
    "print(juros)"
   ]
  },
  {
   "cell_type": "code",
   "execution_count": 5,
   "metadata": {},
   "outputs": [
    {
     "name": "stdout",
     "output_type": "stream",
     "text": [
      "0.04\n",
      "[0.05, 0.07, 0.08]\n"
     ]
    }
   ],
   "source": [
    "# remover um elemento pelo índice: list.pop(val)\n",
    "terceiro_juros = juros.pop(2)\n",
    "print(terceiro_juros)\n",
    "print(juros)"
   ]
  },
  {
   "cell_type": "markdown",
   "metadata": {},
   "source": [
    "Conversões"
   ]
  },
  {
   "cell_type": "code",
   "execution_count": 6,
   "metadata": {},
   "outputs": [
    {
     "name": "stdout",
     "output_type": "stream",
     "text": [
      "andre.perez@gmail.com\n",
      "['a', 'n', 'd', 'r', 'e', '.', 'p', 'e', 'r', 'e', 'z', '@', 'g', 'm', 'a', 'i', 'l', '.', 'c', 'o', 'm']\n"
     ]
    }
   ],
   "source": [
    "email = \"andre.perez@gmail.com\"\n",
    "caracteres_email = list(email)\n",
    "print(email)\n",
    "print(caracteres_email)"
   ]
  },
  {
   "cell_type": "code",
   "execution_count": 8,
   "metadata": {},
   "outputs": [
    {
     "name": "stdout",
     "output_type": "stream",
     "text": [
      "[243, -798.58, 427.12, -10.91]\n"
     ]
    }
   ],
   "source": [
    "dia_11_transacoes = []\n",
    "\n",
    "dia_11_transacoes.append(243)\n",
    "dia_11_transacoes.append(-798.58)\n",
    "dia_11_transacoes.append(427.12)\n",
    "dia_11_transacoes.append(-10.91)\n",
    "\n",
    "print(dia_11_transacoes)\n",
    " "
   ]
  }
 ],
 "metadata": {
  "kernelspec": {
   "display_name": "Python 3",
   "language": "python",
   "name": "python3"
  },
  "language_info": {
   "codemirror_mode": {
    "name": "ipython",
    "version": 3
   },
   "file_extension": ".py",
   "mimetype": "text/x-python",
   "name": "python",
   "nbconvert_exporter": "python",
   "pygments_lexer": "ipython3",
   "version": "3.12.0"
  }
 },
 "nbformat": 4,
 "nbformat_minor": 2
}
