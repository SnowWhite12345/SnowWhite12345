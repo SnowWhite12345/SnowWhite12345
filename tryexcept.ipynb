{
 "cells": [
  {
   "cell_type": "code",
   "execution_count": 1,
   "metadata": {},
   "outputs": [
    {
     "name": "stdout",
     "output_type": "stream",
     "text": [
      "66.425\n"
     ]
    }
   ],
   "source": [
    "preco = 132.85\n",
    "pessoas = 2\n",
    "\n",
    "try:\n",
    "    valor_por_pessoa = preco/pessoas\n",
    "    print(valor_por_pessoa)\n",
    "except ZeroDivisionError:\n",
    "    print(\"Número de pessoas inválido. Espera-se uma valor maior que 0.\"+\n",
    "          \"E obteve-se um valor igual a \"+ str(pessoas))"
   ]
  },
  {
   "cell_type": "code",
   "execution_count": 7,
   "metadata": {},
   "outputs": [
    {
     "name": "stdout",
     "output_type": "stream",
     "text": [
      "2022\n"
     ]
    }
   ],
   "source": [
    "anos = [2019,2020,2021,2022,2023]\n",
    "try:\n",
    "    ano_atual = anos[3]\n",
    "    print(ano_atual)\n",
    "except Exception:\n",
    "    print(\"Lista de anos é menor que o valor escolhido. Espera-se valor entre 0 e \"+ str(len(anos)-1)+\".\")"
   ]
  },
  {
   "cell_type": "code",
   "execution_count": 10,
   "metadata": {},
   "outputs": [
    {
     "name": "stdout",
     "output_type": "stream",
     "text": [
      "Descrição da exceção: list index out of range\n",
      "Tipo de exceção: <class 'IndexError'>\n",
      "Lista de anos é menor que o valor escolhido. Espera-se valor entre 0 e 4.\n"
     ]
    }
   ],
   "source": [
    "anos = [2019,2020,2021,2022,2023]\n",
    "try:\n",
    "    ano_atual = anos[9]\n",
    "    print(ano_atual)\n",
    "except Exception as exc:\n",
    "    print(\"Descrição da exceção: \"+ str(exc))\n",
    "    print(\"Tipo de exceção: \"+str(type(exc)))\n",
    "    print(\"Lista de anos é menor que o valor escolhido. Espera-se valor entre 0 e \"+ str(len(anos)-1)+\".\")"
   ]
  },
  {
   "cell_type": "code",
   "execution_count": 14,
   "metadata": {},
   "outputs": [
    {
     "name": "stdout",
     "output_type": "stream",
     "text": [
      "name 't' is not defined\n",
      "Ocorreu um erro inesperado.\n"
     ]
    }
   ],
   "source": [
    "anos = [2019,2020,2021]\n",
    "\n",
    "try:\n",
    "    ano_atual = anos[2019]\n",
    "    print(ano_atual)\n",
    "except IndexError:\n",
    "    print(\"Lista de anos é menor que o valor escolhido. Espera-se valor entre 0 e \"+ str(len(anos)-1)+\".\")\n",
    "except Exception as exc:\n",
    "    print(exc)\n",
    "    print(\"Ocorreu um erro inesperado.\")"
   ]
  },
  {
   "cell_type": "code",
   "execution_count": 17,
   "metadata": {},
   "outputs": [
    {
     "name": "stdout",
     "output_type": "stream",
     "text": [
      "Segunda Chance\n",
      "Fala pessoal, meu nome é André Perez e eu tenho 19 anos.\n"
     ]
    }
   ],
   "source": [
    "nome= \"André Perez\"\n",
    "idade = 19\n",
    "\n",
    "try:\n",
    "    apresentação = \"Fala pessoal, meu nome é \"+ nome + \" e eu tenho \"+idade+\" anos.\"\n",
    "except TypeError:\n",
    "    idade = str(idade)\n",
    "finally:\n",
    "    print(\"Segunda Chance\")\n",
    "    apresentação = \"Fala pessoal, meu nome é \"+ nome + \" e eu tenho \"+ idade + \" anos.\"\n",
    "    print(apresentação)"
   ]
  }
 ],
 "metadata": {
  "kernelspec": {
   "display_name": "Python 3",
   "language": "python",
   "name": "python3"
  },
  "language_info": {
   "codemirror_mode": {
    "name": "ipython",
    "version": 3
   },
   "file_extension": ".py",
   "mimetype": "text/x-python",
   "name": "python",
   "nbconvert_exporter": "python",
   "pygments_lexer": "ipython3",
   "version": "3.12.0"
  }
 },
 "nbformat": 4,
 "nbformat_minor": 2
}
