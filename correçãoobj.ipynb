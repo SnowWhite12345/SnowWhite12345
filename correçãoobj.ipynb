{
 "cells": [
  {
   "cell_type": "code",
   "execution_count": 5,
   "metadata": {},
   "outputs": [
    {
     "name": "stdout",
     "output_type": "stream",
     "text": [
      "Nome: Andressa de Vargas Fernandes\n",
      "Matrícula: 463743\n",
      "Notas: [9.9, 10, 3.9, 5, 6]\n",
      "Média final: 6.96\n"
     ]
    }
   ],
   "source": [
    "class Aluno:\n",
    "    def __init__(self, nome:str, matricula: int, notas: list):\n",
    "        self.nome = nome\n",
    "        self.matricula = matricula\n",
    "        self.notas = notas\n",
    "\n",
    "    def media(self):\n",
    "        return print(f\"Média final: {round(sum(self.notas)/len(self.notas),2)}\")\n",
    "    \n",
    "    def info(self):\n",
    "        print(f\"Nome: {self.nome}\\nMatrícula: {self.matricula}\\nNotas: {self.notas}\")\n",
    "\n",
    "aluno1 = Aluno(nome=\"Andressa de Vargas Fernandes\", matricula=463743, notas=[9.9,10,3.9,5,6])\n",
    "aluno1.info()\n",
    "aluno1.media()"
   ]
  }
 ],
 "metadata": {
  "kernelspec": {
   "display_name": "Python 3",
   "language": "python",
   "name": "python3"
  },
  "language_info": {
   "codemirror_mode": {
    "name": "ipython",
    "version": 3
   },
   "file_extension": ".py",
   "mimetype": "text/x-python",
   "name": "python",
   "nbconvert_exporter": "python",
   "pygments_lexer": "ipython3",
   "version": "3.12.0"
  }
 },
 "nbformat": 4,
 "nbformat_minor": 2
}
