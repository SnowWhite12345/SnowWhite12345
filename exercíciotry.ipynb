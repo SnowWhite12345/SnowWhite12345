{
 "cells": [
  {
   "cell_type": "code",
   "execution_count": 2,
   "metadata": {},
   "outputs": [
    {
     "name": "stdout",
     "output_type": "stream",
     "text": [
      "Calculadora de peso ideal de acordo com a altura.\n",
      "Sexo feminino.\n",
      "Seu peso ideal é:  60.87 Kg\n"
     ]
    }
   ],
   "source": [
    "print(\"Calculadora de peso ideal de acordo com a altura.\")\n",
    "\n",
    "sexo = input (\"Insira seu sexo, sendo que seja (f) para feminino e (m) para masculino: \")\n",
    "\n",
    "if sexo == \"m\" or sexo == \"M\":\n",
    "    print(\"Sexo masculino.\")\n",
    "    try:\n",
    "        h = float(input(\"Digite sua altura, no formato m.cm(ex.:1.69): \"))\n",
    "        if h < 0:\n",
    "            print(\"Impossível você ter essa altura. Por favor, tente novamente.\")\n",
    "            h = float(input(\"Digite sua altura, no formato m.cm(ex.:1.69): \"))\n",
    "    except ValueError:\n",
    "        print(\"Somente números reais conforme o exemplo dado são permitidos. Tente novamente.\")\n",
    "        h = float(input(\"Digite sua altura, no formato m.cm(ex.:1.69): \"))\n",
    "        if h < 0:\n",
    "            print(\"Impossível você ter essa altura. Por favor, tente novamente.\")\n",
    "            h = float(input(\"Digite sua altura, no formato m.cm(ex.:1.69): \"))\n",
    "    finally:\n",
    "        pesoIM = 0.0\n",
    "        pesoIM = round((72.7*h)-58,3)\n",
    "        print(\"Seu peso ideal é: \", pesoIM, \"Kg.\")\n",
    "\n",
    "\n",
    "elif sexo == \"f\" or sexo == \"F\":\n",
    "    print(\"Sexo feminino.\")\n",
    "    try:\n",
    "        h = float(input(\"Digite sua altura, no formato m.cm(ex.:1.69)\"))\n",
    "    except ValueError:\n",
    "        print(\"Somente números reais conforme o exemplo dado são permitidos. Tente novamente.\")\n",
    "        h = float(input(\"Digite sua altura, no formato m.cm(ex.:1.69): \"))\n",
    "    finally:\n",
    "        pesoIF = 0.0\n",
    "        pesoIF = round((62.1*h)-44.7,3)\n",
    "        print(\"Seu peso ideal é: \", pesoIF, \"Kg\")\n",
    "\n",
    "else:\n",
    "    print(\"Formato inválido. Somente os caracteres que foram pedidos.\")"
   ]
  }
 ],
 "metadata": {
  "kernelspec": {
   "display_name": "Python 3",
   "language": "python",
   "name": "python3"
  },
  "language_info": {
   "codemirror_mode": {
    "name": "ipython",
    "version": 3
   },
   "file_extension": ".py",
   "mimetype": "text/x-python",
   "name": "python",
   "nbconvert_exporter": "python",
   "pygments_lexer": "ipython3",
   "version": "3.12.0"
  }
 },
 "nbformat": 4,
 "nbformat_minor": 2
}
