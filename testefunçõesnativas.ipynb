{
 "cells": [
  {
   "cell_type": "markdown",
   "metadata": {},
   "source": [
    "Transforma a primeira letra da string em maiúscula. -> capitalize()"
   ]
  },
  {
   "cell_type": "code",
   "execution_count": null,
   "metadata": {},
   "outputs": [],
   "source": [
    "text = \"marrocos\"\n",
    "print(text.capitalize())"
   ]
  },
  {
   "cell_type": "markdown",
   "metadata": {},
   "source": [
    "Transforma as letras da string em minúsculas. -> casefol()"
   ]
  },
  {
   "cell_type": "code",
   "execution_count": null,
   "metadata": {},
   "outputs": [],
   "source": [
    "txt = \"Hello, Andressa and Ariel!\"\n",
    "print(txt.casefold())"
   ]
  },
  {
   "cell_type": "markdown",
   "metadata": {},
   "source": [
    "Retorna uma string no centro. -> center()"
   ]
  },
  {
   "cell_type": "code",
   "execution_count": null,
   "metadata": {},
   "outputs": [],
   "source": [
    "print(txt.center(100))\n",
    "print(txt.center(100, \"=\"))"
   ]
  },
  {
   "cell_type": "markdown",
   "metadata": {},
   "source": [
    "Retorna o número de vezes que um valor específicado ocorre numa string -> count()"
   ]
  },
  {
   "cell_type": "code",
   "execution_count": null,
   "metadata": {},
   "outputs": [],
   "source": [
    "txt = \"Eu amo maçãs, são minhas frutas favoritas.\"\n",
    "print(txt.count(\"m\"))\n",
    "print(txt.count(\"f\", 24, 30))"
   ]
  },
  {
   "cell_type": "markdown",
   "metadata": {},
   "source": [
    "Retorna uma versão codificada da string -> encode()"
   ]
  },
  {
   "cell_type": "code",
   "execution_count": null,
   "metadata": {},
   "outputs": [],
   "source": [
    "txt = \"Meu nome é Andressa\"\n",
    "print(txt.encode())\n",
    "\n",
    "print(txt.encode(encoding=\"ascii\",errors=\"backslashreplace\"))\n",
    "print(txt.encode(encoding=\"ascii\",errors=\"ignore\"))\n",
    "print(txt.encode(encoding=\"ascii\",errors=\"namereplace\"))\n",
    "print(txt.encode(encoding=\"ascii\",errors=\"replace\"))\n",
    "print(txt.encode(encoding=\"ascii\",errors=\"xmlcharrefreplace\"))"
   ]
  },
  {
   "cell_type": "markdown",
   "metadata": {},
   "source": [
    "Retorna <True> se a string terminar com o valor específicado. -> endswith()"
   ]
  },
  {
   "cell_type": "code",
   "execution_count": null,
   "metadata": {},
   "outputs": [],
   "source": [
    "txt = \"Olá, meu nome é Andressa!\"\n",
    "print(txt.endswith(\"!\"))\n",
    "print(txt.endswith(\".\"))\n",
    "print(txt.endswith(\"é Andressa!\"))\n",
    "print(txt.endswith(\"é Andressa!\",5,11))"
   ]
  },
  {
   "cell_type": "markdown",
   "metadata": {},
   "source": [
    "Define o temanho da tabulação da string -> expandtabs()"
   ]
  },
  {
   "cell_type": "code",
   "execution_count": 24,
   "metadata": {},
   "outputs": [
    {
     "name": "stdout",
     "output_type": "stream",
     "text": [
      "H e l l o\n",
      "H\te\tl\tl\to\n",
      "H       e       l       l       o\n",
      "H e l l o\n",
      "H   e   l   l   o\n",
      "H         e         l         l         o\n"
     ]
    }
   ],
   "source": [
    "txt = \"H\\te\\tl\\tl\\to\"\n",
    "print(txt.expandtabs(2))\n",
    "print(txt)\n",
    "print(txt.expandtabs())\n",
    "print(txt.expandtabs(2))\n",
    "print(txt.expandtabs(4))\n",
    "print(txt.expandtabs(10))"
   ]
  },
  {
   "cell_type": "markdown",
   "metadata": {},
   "source": [
    "Pesquisa a string por um valor especificado e retorna a posição do número. - find()"
   ]
  },
  {
   "cell_type": "code",
   "execution_count": 28,
   "metadata": {},
   "outputs": [
    {
     "name": "stdout",
     "output_type": "stream",
     "text": [
      "7\n",
      "1\n",
      "8\n",
      "-1\n",
      "25\n"
     ]
    }
   ],
   "source": [
    "txt = \"Hello, welcome to my world.\"\n",
    "print(txt.find(\"welcome\"))\n",
    "print(txt.find(\"e\"))\n",
    "print(txt.find(\"e\", 5, 10))\n",
    "print(txt.find(\"q\"))\n",
    "print(txt.index(\"q\"))\n"
   ]
  },
  {
   "cell_type": "markdown",
   "metadata": {},
   "source": [
    "formata valores especificados numa string -> format()"
   ]
  },
  {
   "cell_type": "code",
   "execution_count": 57,
   "metadata": {},
   "outputs": [
    {
     "name": "stdout",
     "output_type": "stream",
     "text": [
      "For only $49.00 dollars!\n",
      "My name is John, I'm 36 \n",
      " My name is John, I'm 36 \n",
      " My name is John, I'm 36\n",
      "We have 49       chickens.\n",
      "We have       49 chickens.\n",
      "We have    49    chickens.\n",
      "We have       49 chickens.\n",
      "We have +49 chickens.\n",
      "We have -49 chickens.\n",
      "The temperature is between -3 and  7 degrees celsius.\n",
      "The universe is 13,800,000,000 years old.\n",
      "The universe is 13_800_000_000 years old.\n",
      "The binary version of 5 is 101\n",
      " years old.e is \n",
      "We have 5 chickens.\n",
      "We have 5.000000e+00 chickens.\n",
      "We have 5.000000E+00 chickens.\n",
      "The price is 45.00 dollars.\n",
      "The price is 45.000000 dollars.\n"
     ]
    }
   ],
   "source": [
    "txt = \"For only ${price:.2f} dollars!\"\n",
    "print(txt.format(price = 49))\n",
    "txt1 = \"My name is {fname}, I'm {age}\".format(fname = \"John\", age = 36)\n",
    "txt2 = \"My name is {0}, I'm {1}\".format(\"John\",36)\n",
    "txt3 = \"My name is {}, I'm {}\".format(\"John\",36)\n",
    "print(txt1, \"\\n\",txt2, \"\\n\",txt3)\n",
    "\n",
    "#Alinha o resultado à esquerda, dentro do espaço disponível\n",
    "txt = \"We have {:<8} chickens.\"\n",
    "print(txt.format(49))\n",
    "\n",
    "#Alinha o resultado à direita, dentro do espaço disponível\n",
    "txt = \"We have {:>8} chickens.\"\n",
    "print(txt.format(49))\n",
    "\n",
    "#Centraliza o resultado, dentro do espaço disponível\n",
    "txt = \"We have {:^8} chickens.\"\n",
    "print(txt.format(49))\n",
    "\n",
    "#Coloca o sinal na posição mais a esquerda\n",
    "txt = \"We have {:=8} chickens.\"\n",
    "print(txt.format(49))\n",
    "\n",
    "#Usar o sinal para indicar se o valor é positivo ou negativo\n",
    "txt = \"We have {:+} chickens.\"\n",
    "print(txt.format(49))\n",
    "\n",
    "#Usar o sinal para indicar que ele é negativo, os positivos vão ser vevolvidos sem qualquer sinal\n",
    "txt = \"We have {:-} chickens.\"\n",
    "print(txt.format(-49))\n",
    "\n",
    "#Usa espaço para inserir um espaço antes dos numeros positivos e um sinal de menos antes dos numeros negativos\n",
    "txt = \"The temperature is between {: } and {: } degrees celsius.\"\n",
    "print(txt.format(-3, 7))\n",
    "\n",
    "#Usa vírgula como separador de milhar\n",
    "txt = \"The universe is {:,} years old.\"\n",
    "print(txt.format(13800000000))\n",
    "\n",
    "#Usa underline como separador de milhar\n",
    "txt = \"The universe is {:_} years old.\"\n",
    "print(txt.format(13800000000))\n",
    "\n",
    "#Converter em formato binário\n",
    "txt = \"The binary version of {0} is {0:b}\"\n",
    "print(txt.format(5))\n",
    "\n",
    "#Converte o valor pelo caractere Unicode correspondente\n",
    "txt = \"The universe is {:c} years old.\"\n",
    "print(txt.format(13))\n",
    "\n",
    "#Usado para converter número binário em decimal\n",
    "\n",
    "txt = \"We have {:d} chickens.\"\n",
    "print(txt.format(0b101))\n",
    "\n",
    "\n",
    "#converter em número científico com \"e\" minúsculo ou \"E\" maiúsculo\n",
    "\n",
    "txt = \"We have {:e} chickens.\"\n",
    "print(txt.format(5))\n",
    "txt = \"We have {:E} chickens.\"\n",
    "print(txt.format(5))\n",
    "\n",
    "#Casas decimais (padrão 6)\n",
    "txt = \"The price is {:.2f} dollars.\"\n",
    "print(txt.format(45))\n",
    "\n",
    "txt = \"The price is {:f} dollars.\"\n",
    "print(txt.format(45))\n",
    "\n"
   ]
  },
  {
   "cell_type": "code",
   "execution_count": 61,
   "metadata": {},
   "outputs": [
    {
     "name": "stdout",
     "output_type": "stream",
     "text": [
      "Oi mundo! Tenho 10 anos\n"
     ]
    }
   ],
   "source": [
    "text = \"Oi mundo! Tenho 10 anos\"\n",
    "print(text.format_map(40))"
   ]
  }
 ],
 "metadata": {
  "kernelspec": {
   "display_name": "Python 3",
   "language": "python",
   "name": "python3"
  },
  "language_info": {
   "codemirror_mode": {
    "name": "ipython",
    "version": 3
   },
   "file_extension": ".py",
   "mimetype": "text/x-python",
   "name": "python",
   "nbconvert_exporter": "python",
   "pygments_lexer": "ipython3",
   "version": "3.12.0"
  }
 },
 "nbformat": 4,
 "nbformat_minor": 2
}
