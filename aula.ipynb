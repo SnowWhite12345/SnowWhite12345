{
 "cells": [
  {
   "cell_type": "code",
   "execution_count": 3,
   "metadata": {},
   "outputs": [
    {
     "ename": "TypeError",
     "evalue": "can only concatenate str (not \"bool\") to str",
     "output_type": "error",
     "traceback": [
      "\u001b[1;31m---------------------------------------------------------------------------\u001b[0m",
      "\u001b[1;31mTypeError\u001b[0m                                 Traceback (most recent call last)",
      "\u001b[1;32mc:\\Users\\Aluno\\Andressa de Vargas\\aula.ipynb Célula 1\u001b[0m line \u001b[0;36m3\n\u001b[0;32m      <a href='vscode-notebook-cell:/c%3A/Users/Aluno/Andressa%20de%20Vargas/aula.ipynb#W0sZmlsZQ%3D%3D?line=0'>1</a>\u001b[0m idade \u001b[39m=\u001b[39m \u001b[39mTrue\u001b[39;00m\n\u001b[1;32m----> <a href='vscode-notebook-cell:/c%3A/Users/Aluno/Andressa%20de%20Vargas/aula.ipynb#W0sZmlsZQ%3D%3D?line=2'>3</a>\u001b[0m apresentação \u001b[39m=\u001b[39m \u001b[39m\"\u001b[39;49m\u001b[39mMeu nome é André e tenho \u001b[39;49m\u001b[39m\"\u001b[39;49m\u001b[39m+\u001b[39;49midade\n",
      "\u001b[1;31mTypeError\u001b[0m: can only concatenate str (not \"bool\") to str"
     ]
    }
   ],
   "source": [
    "idade = True\n",
    "\n",
    "apresentação = \"Meu nome é André e tenho \"+idade"
   ]
  },
  {
   "cell_type": "code",
   "execution_count": 2,
   "metadata": {},
   "outputs": [
    {
     "ename": "IndexError",
     "evalue": "list index out of range",
     "output_type": "error",
     "traceback": [
      "\u001b[1;31m---------------------------------------------------------------------------\u001b[0m",
      "\u001b[1;31mIndexError\u001b[0m                                Traceback (most recent call last)",
      "\u001b[1;32mc:\\Users\\Aluno\\Andressa de Vargas\\aula.ipynb Célula 2\u001b[0m line \u001b[0;36m2\n\u001b[0;32m      <a href='vscode-notebook-cell:/c%3A/Users/Aluno/Andressa%20de%20Vargas/aula.ipynb#W1sZmlsZQ%3D%3D?line=0'>1</a>\u001b[0m anos \u001b[39m=\u001b[39m [\u001b[39m2019\u001b[39m,\u001b[39m2020\u001b[39m,\u001b[39m2021\u001b[39m]\n\u001b[1;32m----> <a href='vscode-notebook-cell:/c%3A/Users/Aluno/Andressa%20de%20Vargas/aula.ipynb#W1sZmlsZQ%3D%3D?line=1'>2</a>\u001b[0m ano_atual \u001b[39m=\u001b[39m anos [\u001b[39m3\u001b[39;49m]\n",
      "\u001b[1;31mIndexError\u001b[0m: list index out of range"
     ]
    }
   ],
   "source": [
    "anos = [2019,2020,2021]\n",
    "ano_atual = anos [3]"
   ]
  },
  {
   "cell_type": "code",
   "execution_count": 1,
   "metadata": {},
   "outputs": [],
   "source": [
    "cursos = {\n",
    "    \"Python\":{\n",
    "        \"nome\":\"Python para análises de dados\", \n",
    "    }\n",
    "}"
   ]
  }
 ],
 "metadata": {
  "kernelspec": {
   "display_name": "Python 3",
   "language": "python",
   "name": "python3"
  },
  "language_info": {
   "codemirror_mode": {
    "name": "ipython",
    "version": 3
   },
   "file_extension": ".py",
   "mimetype": "text/x-python",
   "name": "python",
   "nbconvert_exporter": "python",
   "pygments_lexer": "ipython3",
   "version": "3.12.0"
  }
 },
 "nbformat": 4,
 "nbformat_minor": 2
}
