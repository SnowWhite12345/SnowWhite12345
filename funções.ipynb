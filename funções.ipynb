{
 "cells": [
  {
   "cell_type": "markdown",
   "metadata": {},
   "source": [
    "Você trabalha na bolsa de valores e precisa simular o retorno de um investimento para diversos cenários."
   ]
  },
  {
   "cell_type": "code",
   "execution_count": null,
   "metadata": {},
   "outputs": [],
   "source": [
    "valor_inicial, taxa_juros_anual, anos = 1000.00, 0.05, 10\n",
    "\n",
    "valor_final = valor_inicial\n",
    "for ano in range(1,anos+1):\n",
    "    valor_final = valor_final*(1+taxa_juros_anual)\n",
    "valor_final = round(valor_final,2)\n",
    "print(f\"Para um valor inicial de R$ {valor_inicial} é uma taxa de juros anual de {valor_final}.\")\n",
    "\n",
    "valor_inicial, taxa_juros_anual, anos = 1020.00, 0.03, 10\n",
    "\n",
    "valor_final = valor_inicial\n",
    "for ano in range (1,anos+1):\n",
    "    valor_final = valor_final*(1+taxa_juros_anual)\n",
    "valor_final = round(valor_final,2)\n",
    "print(f\"Para um valor inical de R${valor_inicial} é uma taxa de {valor_final}\")"
   ]
  },
  {
   "cell_type": "markdown",
   "metadata": {},
   "source": [
    "bloco de código que só executado quando chamado.\n",
    "def <nome>(<param 1>, <param 2>, ...):\n",
    "    bloco de código\n",
    "    return <valor retorno>\n",
    "\n",
    "var = <nome da função>(<param 1>, <param2>, ...)\n"
   ]
  },
  {
   "cell_type": "code",
   "execution_count": null,
   "metadata": {},
   "outputs": [],
   "source": [
    "def imprime(mensagem: str):\n",
    "    print(mensagem)"
   ]
  },
  {
   "cell_type": "code",
   "execution_count": null,
   "metadata": {},
   "outputs": [],
   "source": [
    "texto = \"Fala pessoal, meu nome é Fulano!\"\n",
    "imprime(texto)"
   ]
  },
  {
   "cell_type": "code",
   "execution_count": null,
   "metadata": {},
   "outputs": [],
   "source": [
    "def maiusculo(texto:str)->str:\n",
    "    text_maiusculo = texto.upper()\n",
    "    return text_maiusculo\n",
    "\n",
    "nome = \"Andressa de Vargas\"\n",
    "print(nome)\n",
    "\n",
    "nome_maiusculo = maiusculo(nome)\n",
    "print(nome_maiusculo)\n",
    "print(maiusculo(nome))"
   ]
  },
  {
   "cell_type": "code",
   "execution_count": null,
   "metadata": {},
   "outputs": [],
   "source": [
    "def extrair_usuário_email_provedor(email:str) -> (str,str):\n",
    "    email_separado = email.split(sep=\"@\")\n",
    "    usuario = email_separado[0]\n",
    "    provedor = email_separado[1]\n",
    "    return usuario, provedor\n",
    "\n",
    "email = \"vargasandressa65@gmail.com\"\n",
    "usuario, provedor = extrair_usuário_email_provedor(email=email)\n",
    "print(usuario)\n",
    "print(provedor)"
   ]
  },
  {
   "cell_type": "markdown",
   "metadata": {},
   "source": [
    "parâmetros são os valores que a passamos na chamada função\n",
    "    função sem parâmetro:"
   ]
  },
  {
   "cell_type": "code",
   "execution_count": null,
   "metadata": {},
   "outputs": [],
   "source": [
    "def pi()->float:\n",
    "    return  3.141592655359\n",
    "\n",
    "pi = pi()\n",
    "print(pi)"
   ]
  },
  {
   "cell_type": "code",
   "execution_count": null,
   "metadata": {},
   "outputs": [],
   "source": [
    "def imprime_pi() -> None:\n",
    "    print(3.14159265359)\n",
    "    return None\n",
    "\n",
    "nulo = imprime_pi()\n",
    "print(type(nulo))\n",
    "print(f\"->{nulo}\")"
   ]
  },
  {
   "cell_type": "markdown",
   "metadata": {},
   "source": [
    "Função com parâmetro: "
   ]
  },
  {
   "cell_type": "code",
   "execution_count": null,
   "metadata": {},
   "outputs": [],
   "source": [
    "def juros_compostos_anual(valor_inicial: float, taxa_juros_anual: float, anos: int) -> float:\n",
    "  valor_final = valor_inicial\n",
    "  for ano in range(1, anos+1):\n",
    "    valor_final = valor_final * (1 + taxa_juros_anual)\n",
    "  valor_final = round(valor_final, 2)\n",
    "  print(f'Para um valor inicial de R$ {valor_inicial} e uma taxa de juros anual de {taxa_juros_anual}, em {anos} anos você terá R$ {valor_final}') \n",
    "  return valor_final\n",
    "\n",
    "valor_inicial, taxa_juros_anual, anos = 1000.00, 0.05, 10\n",
    "valor_final = juros_compostos_anual(valor_inicial=valor_inicial, taxa_juros_anual=taxa_juros_anual, anos=anos)\n",
    "\n",
    "valor_inicial, taxa_juros_anual, anos = 1020.00, 0.03, 10\n",
    "valor_final = juros_compostos_anual(valor_inicial=valor_inicial, taxa_juros_anual=taxa_juros_anual, anos=anos) \n"
   ]
  },
  {
   "cell_type": "markdown",
   "metadata": {},
   "source": [
    "Escopo: ciclo de vida de uma variável"
   ]
  },
  {
   "cell_type": "code",
   "execution_count": null,
   "metadata": {},
   "outputs": [],
   "source": [
    "def soma_lista(numeros:list)-> int:\n",
    "    s = 0\n",
    "    for numero in numeros:\n",
    "        s = s+numero\n",
    "    return s\n",
    "numeros=[3,4,5]*20\n",
    "soma = soma_lista(numeros)\n",
    "print(soma)"
   ]
  },
  {
   "cell_type": "code",
   "execution_count": null,
   "metadata": {},
   "outputs": [],
   "source": [
    "def recebename()->str:\n",
    "    return input(\"Informe o seu nome: \").upper()\n",
    "def imprimenomes(listanomes:list):\n",
    "    for nome in listanomes:\n",
    "        print(f\"Nome {listanomes.index(nome)+1}°: {nome}\")\n",
    "\n",
    "listanomes = []\n",
    "while True:\n",
    "    nome = recebename()\n",
    "    if nome != \"S\":\n",
    "        listanomes.append(nome)\n",
    "        print(f\"Olá, {nome}!\")\n",
    "    else:\n",
    "        print(\"Aplicação encerrada.\")\n",
    "        break\n",
    "\n",
    "imprimenomes(listanomes)"
   ]
  },
  {
   "cell_type": "code",
   "execution_count": null,
   "metadata": {},
   "outputs": [],
   "source": [
    "def classnumber(n:int, lista:list):\n",
    "    for n in lista:\n",
    "        if n%2 == 0 & n!=2 & n!=1:\n",
    "            print(f\"O número {n} é par e não é primo.\")\n",
    "\n",
    "        elif n%2 != 0 & n!=2 & n!=1:\n",
    "            monitor = 0\n",
    "            for i in range (2,n):\n",
    "                if n%i==0:\n",
    "                    print(f\"O número {n} é ímpar e não é primo.\")\n",
    "                    monitor+=1\n",
    "            if monitor == 0:\n",
    "                print(f\"O número {n} é ímpar e é primo.\")\n",
    "\n",
    "        elif n == 2:\n",
    "            print(f\"O número {n} é par e é primo.\")\n",
    "        elif n == 1:\n",
    "            print(f\"O número {n} é ímpar e não é primo.\")\n",
    "\n",
    "listanum = []\n",
    "\n",
    "while True:\n",
    "    num = int(input(\"Digite a quantos números quiser. Para encerrar digite 0.\"))\n",
    "    if num != 0:\n",
    "        print(num)\n",
    "        listanum.append(num)\n",
    "    else:\n",
    "        print(\"\\nPrograma encerrado.\\n\")\n",
    "        break\n",
    "\n",
    "classnumber(num,listanum)"
   ]
  },
  {
   "cell_type": "code",
   "execution_count": 5,
   "metadata": {},
   "outputs": [
    {
     "name": "stdout",
     "output_type": "stream",
     "text": [
      "Média aritmética de notas.\n",
      "\n",
      "Nota: 5.0\n",
      "Nota: 9.0\n",
      "Nota: 8.0\n",
      "Nota: 7.0\n",
      "Nota: 4.0\n",
      "Somente número reais (ex.: 3.9)! Não coloque letras ou caracteres especiais.\n",
      "Nota: 2.0\n",
      "\n",
      "Programa encerrado.\n",
      "\n",
      "Sua média final: 5.8\n"
     ]
    }
   ],
   "source": [
    "def média(numeros:list):\n",
    "    i = 0\n",
    "    for numero in numeros:\n",
    "        i = i+numero\n",
    "    mediaA = i/len(numeros)\n",
    "    return print(f\"Sua média final: {round(mediaA,1)}\")\n",
    "\n",
    "\n",
    "\n",
    "print(\"Média aritmética de notas.\\n\")\n",
    "listnotas = []\n",
    "\n",
    "while True:\n",
    "    try:\n",
    "        nota = float(input(\"Escreva suas notas, num valor de 0 a 10. Digite um número fora disso e o programa encerra.\"))\n",
    "\n",
    "        if nota >= 0 and nota <= 10:\n",
    "            print(f\"Nota: {nota}\")\n",
    "            listnotas.append(nota)\n",
    "        else:\n",
    "            print(\"\\nPrograma encerrado.\\n\")\n",
    "            break\n",
    "    except ValueError:\n",
    "        print(\"Somente número reais (ex.: 3.9)! Não coloque letras ou caracteres especiais.\")\n",
    "\n",
    "média(listnotas)"
   ]
  },
  {
   "cell_type": "markdown",
   "metadata": {},
   "source": []
  }
 ],
 "metadata": {
  "kernelspec": {
   "display_name": "Python 3",
   "language": "python",
   "name": "python3"
  },
  "language_info": {
   "codemirror_mode": {
    "name": "ipython",
    "version": 3
   },
   "file_extension": ".py",
   "mimetype": "text/x-python",
   "name": "python",
   "nbconvert_exporter": "python",
   "pygments_lexer": "ipython3",
   "version": "3.12.0"
  }
 },
 "nbformat": 4,
 "nbformat_minor": 2
}
