{
 "cells": [
  {
   "cell_type": "code",
   "execution_count": null,
   "metadata": {},
   "outputs": [],
   "source": [
    "print(\"Tarifas por hora de estacionamento à serem cobradas:\\n\\t-> 1h à 2h - R$ 10,00 cada\\n\\t-> 3h à 4h - R$ 11,00 cada\\n\\t-> 5h para cima - R$ 5,00 cada\")\n",
    "print(\"\\nPERMISSÃO SOMENTE PARA FUNCIONÁRIOS\")\n",
    "\n",
    "senha = 321300\n",
    "\n",
    "senhai = int(input(\"Inserir pin: \"))\n",
    "if senhai == senha:\n",
    "    horas = int(input(\"Insira a quantidade de horas estacionadas (em números inteiros): \"))\n",
    "    if (horas >= 1) & (horas <= 2):\n",
    "        print(\"Valor: R$\",horas*10,\", 00\")\n",
    "    elif (horas > 2) & (horas <= 4):\n",
    "        print(\"Valor: R$\",horas*11,\", 00\")\n",
    "    elif (horas >= 5):\n",
    "        print(\"Valor: R$\", horas*5, \", 00\")\n",
    "else:\n",
    "    print(\"Pin incorreto\")"
   ]
  },
  {
   "cell_type": "code",
   "execution_count": 13,
   "metadata": {},
   "outputs": [
    {
     "name": "stdout",
     "output_type": "stream",
     "text": [
      "Tarifas por hora de estacionamento a serem cobradas:\n",
      "\t-> 1h à 2h - R$ 10,00 cada\n",
      "\t-> 3h à 4h - R$ 11,00 cada\n",
      "\t-> 5h para cima - R$ 5,00 cada\n",
      "\n",
      "Entrada:  10 h\n",
      "Saída:  23 h\n",
      "Tempo de permanência: 13 h\n",
      "\n",
      "Valor: R$ 65 , 00\n"
     ]
    }
   ],
   "source": [
    "print(\"Tarifas por hora de estacionamento a serem cobradas:\\n\\t-> 1h à 2h - R$ 10,00 cada\\n\\t-> 3h à 4h - R$ 11,00 cada\\n\\t-> 5h para cima - R$ 5,00 cada\")\n",
    "\n",
    "hora_enter = int(input(\"Insira horário de entrada: \"))\n",
    "print(\"\\nEntrada: \",hora_enter,\"h\")\n",
    "hora_esc = int(input(\"Insira o horário de saída: \"))\n",
    "print(\"Saída: \",hora_esc,\"h\")\n",
    "\n",
    "if hora_enter>hora_esc:\n",
    "    horas = hora_enter-hora_esc\n",
    "else:\n",
    "    horas = hora_esc-hora_enter\n",
    "\n",
    "print(\"Tempo de permanência:\", horas, \"h\\n\")\n",
    "\n",
    "if (horas >= 1) & (horas <= 2):\n",
    "    print(\"Valor: R$\",horas*10,\", 00\")\n",
    "elif (horas > 2) & (horas <= 4):\n",
    "    print(\"Valor: R$\",horas*11,\", 00\")\n",
    "elif (horas >= 5):\n",
    "    print(\"Valor: R$\", horas*5, \", 00\")"
   ]
  }
 ],
 "metadata": {
  "kernelspec": {
   "display_name": "Python 3",
   "language": "python",
   "name": "python3"
  },
  "language_info": {
   "codemirror_mode": {
    "name": "ipython",
    "version": 3
   },
   "file_extension": ".py",
   "mimetype": "text/x-python",
   "name": "python",
   "nbconvert_exporter": "python",
   "pygments_lexer": "ipython3",
   "version": "3.12.0"
  }
 },
 "nbformat": 4,
 "nbformat_minor": 2
}
