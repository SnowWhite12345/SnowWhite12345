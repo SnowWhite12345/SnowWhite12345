{
 "cells": [
  {
   "cell_type": "code",
   "execution_count": 1,
   "metadata": {},
   "outputs": [
    {
     "name": "stdout",
     "output_type": "stream",
     "text": [
      "Número: 0, Raíz: 0.0\n",
      "Número: 1, Raíz: 1.0\n",
      "Número: 2, Raíz: 1.4142135623730951\n",
      "Número: 3, Raíz: 1.7320508075688772\n",
      "Número: 4, Raíz: 2.0\n",
      "Número: 5, Raíz: 2.23606797749979\n",
      "Número: 6, Raíz: 2.449489742783178\n",
      "Número: 7, Raíz: 2.6457513110645907\n",
      "Número: 8, Raíz: 2.8284271247461903\n",
      "Número: 9, Raíz: 3.0\n",
      "Número: 10, Raíz: 3.1622776601683795\n",
      "Número: 11, Raíz: 3.3166247903554\n",
      "Número: 12, Raíz: 3.4641016151377544\n",
      "Número: 13, Raíz: 3.605551275463989\n",
      "Número: 14, Raíz: 3.7416573867739413\n",
      "Número: 15, Raíz: 3.872983346207417\n",
      "Número: 16, Raíz: 4.0\n",
      "Número: 17, Raíz: 4.123105625617661\n",
      "Número: 18, Raíz: 4.242640687119285\n",
      "Número: 19, Raíz: 4.358898943540674\n",
      "Número: 20, Raíz: 4.47213595499958\n",
      "Número: 21, Raíz: 4.58257569495584\n",
      "Número: 22, Raíz: 4.69041575982343\n",
      "Número: 23, Raíz: 4.795831523312719\n",
      "Número: 24, Raíz: 4.898979485566356\n",
      "Número: 25, Raíz: 5.0\n",
      "Número: 26, Raíz: 5.0990195135927845\n",
      "Número: 27, Raíz: 5.196152422706632\n",
      "Número: 28, Raíz: 5.291502622129181\n",
      "Número: 29, Raíz: 5.385164807134504\n",
      "Número: 30, Raíz: 5.477225575051661\n",
      "Número: 31, Raíz: 5.5677643628300215\n",
      "Número: 32, Raíz: 5.656854249492381\n",
      "Número: 33, Raíz: 5.744562646538029\n",
      "Número: 34, Raíz: 5.830951894845301\n",
      "Número: 35, Raíz: 5.916079783099616\n",
      "Número: 36, Raíz: 6.0\n",
      "Número: 37, Raíz: 6.082762530298219\n",
      "Número: 38, Raíz: 6.164414002968976\n",
      "Número: 39, Raíz: 6.244997998398398\n",
      "Número: 40, Raíz: 6.324555320336759\n",
      "Número: 41, Raíz: 6.4031242374328485\n",
      "Número: 42, Raíz: 6.48074069840786\n",
      "Número: 43, Raíz: 6.557438524302\n",
      "Número: 44, Raíz: 6.6332495807108\n",
      "Número: 45, Raíz: 6.708203932499369\n",
      "Número: 46, Raíz: 6.782329983125268\n",
      "Número: 47, Raíz: 6.855654600401044\n",
      "Número: 48, Raíz: 6.928203230275509\n",
      "Número: 49, Raíz: 7.0\n",
      "Número: 50, Raíz: 7.0710678118654755\n",
      "Número: 51, Raíz: 7.14142842854285\n",
      "Número: 52, Raíz: 7.211102550927978\n",
      "Número: 53, Raíz: 7.280109889280518\n",
      "Número: 54, Raíz: 7.3484692283495345\n",
      "Número: 55, Raíz: 7.416198487095663\n",
      "Número: 56, Raíz: 7.483314773547883\n",
      "Número: 57, Raíz: 7.54983443527075\n",
      "Número: 58, Raíz: 7.615773105863909\n",
      "Número: 59, Raíz: 7.681145747868608\n",
      "Número: 60, Raíz: 7.745966692414834\n",
      "Número: 61, Raíz: 7.810249675906654\n",
      "Número: 62, Raíz: 7.874007874011811\n",
      "Número: 63, Raíz: 7.937253933193772\n",
      "Número: 64, Raíz: 8.0\n",
      "Número: 65, Raíz: 8.06225774829855\n",
      "Número: 66, Raíz: 8.12403840463596\n",
      "Número: 67, Raíz: 8.18535277187245\n",
      "Número: 68, Raíz: 8.246211251235321\n",
      "Número: 69, Raíz: 8.306623862918075\n",
      "Número: 70, Raíz: 8.366600265340756\n",
      "Número: 71, Raíz: 8.426149773176359\n",
      "Número: 72, Raíz: 8.48528137423857\n",
      "Número: 73, Raíz: 8.54400374531753\n",
      "Número: 74, Raíz: 8.602325267042627\n",
      "Número: 75, Raíz: 8.660254037844387\n",
      "Número: 76, Raíz: 8.717797887081348\n",
      "Número: 77, Raíz: 8.774964387392123\n",
      "Número: 78, Raíz: 8.831760866327848\n",
      "Número: 79, Raíz: 8.888194417315589\n",
      "Número: 80, Raíz: 8.94427190999916\n",
      "Número: 81, Raíz: 9.0\n",
      "Número: 82, Raíz: 9.055385138137417\n",
      "Número: 83, Raíz: 9.1104335791443\n",
      "Número: 84, Raíz: 9.16515138991168\n",
      "Número: 85, Raíz: 9.219544457292887\n",
      "Número: 86, Raíz: 9.273618495495704\n",
      "Número: 87, Raíz: 9.327379053088816\n",
      "Número: 88, Raíz: 9.38083151964686\n",
      "Número: 89, Raíz: 9.433981132056603\n",
      "Número: 90, Raíz: 9.486832980505138\n",
      "Número: 91, Raíz: 9.539392014169456\n",
      "Número: 92, Raíz: 9.591663046625438\n",
      "Número: 93, Raíz: 9.643650760992955\n",
      "Número: 94, Raíz: 9.695359714832659\n",
      "Número: 95, Raíz: 9.746794344808963\n",
      "Número: 96, Raíz: 9.797958971132712\n",
      "Número: 97, Raíz: 9.848857801796104\n",
      "Número: 98, Raíz: 9.899494936611665\n",
      "Número: 99, Raíz: 9.9498743710662\n",
      "Número: 100, Raíz: 10.0\n"
     ]
    }
   ],
   "source": [
    "for i in range(101):  \n",
    "    print(f\"Número: {i}, Raíz: {i**0.5}\")"
   ]
  },
  {
   "cell_type": "code",
   "execution_count": 2,
   "metadata": {},
   "outputs": [
    {
     "name": "stdout",
     "output_type": "stream",
     "text": [
      "['casa', 'carro', 'teto', 'vovó']\n",
      "['Casa', 'Carro', 'Teto', 'Vovó']\n"
     ]
    }
   ],
   "source": [
    "lista = [\"casa\", \"carro\", \"teto\", \"vovó\"]\n",
    "print(lista)\n",
    "lista = [lista.capitalize() for lista in lista]\n",
    "print(lista)"
   ]
  }
 ],
 "metadata": {
  "kernelspec": {
   "display_name": "Python 3",
   "language": "python",
   "name": "python3"
  },
  "language_info": {
   "codemirror_mode": {
    "name": "ipython",
    "version": 3
   },
   "file_extension": ".py",
   "mimetype": "text/x-python",
   "name": "python",
   "nbconvert_exporter": "python",
   "pygments_lexer": "ipython3",
   "version": "3.12.0"
  }
 },
 "nbformat": 4,
 "nbformat_minor": 2
}
